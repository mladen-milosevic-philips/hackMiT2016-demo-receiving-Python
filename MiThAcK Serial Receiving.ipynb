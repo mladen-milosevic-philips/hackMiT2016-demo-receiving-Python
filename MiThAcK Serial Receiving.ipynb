{
 "cells": [
  {
   "cell_type": "markdown",
   "metadata": {},
   "source": [
    "# HackMiT Demo Receiving in Python"
   ]
  },
  {
   "cell_type": "markdown",
   "metadata": {},
   "source": [
    "This is a simple Python program that reads stream of data from demo Android app over a Bluetooth Serial link."
   ]
  },
  {
   "cell_type": "code",
   "execution_count": 1,
   "metadata": {
    "collapsed": false
   },
   "outputs": [],
   "source": [
    "import serial\n",
    "import time\n",
    "from ipywidgets import widgets\n",
    "from IPython.display import display\n",
    "from struct import *\n",
    "\n",
    "buttonStart = widgets.Button (description=\"Start\")\n",
    "display(buttonStart)\n",
    "\n",
    "buttonStop = widgets.Button (description=\"Stop\")\n",
    "display(buttonStop)\n",
    "\n",
    "ser = None\n",
    "\n",
    "def on_buttonStart_clicked(b):  \n",
    "    global ser\n",
    "   \n",
    "    \n",
    "    # configure the serial connections (change only the PORT parameter)\n",
    "    ser = serial.Serial(\n",
    "        port='COM20', \n",
    "        baudrate=115200,\n",
    "        parity=serial.PARITY_NONE,\n",
    "        stopbits=serial.STOPBITS_ONE,\n",
    "        bytesize=serial.EIGHTBITS\n",
    "    )\n",
    "  \n",
    "    input=1\n",
    "    startByte = bytearray(ser.read())[0]\n",
    "    while ser.isOpen():     \n",
    "        # time.sleep(1)\n",
    "        while startByte!=0x55:\n",
    "            startByte = ser.read()\n",
    "\n",
    "        # read rest of the package - accelerations for all three axes\n",
    "        accX = unpack('f', bytearray(ser.read(4)))[0]\n",
    "        accY = unpack('f', bytearray(ser.read(4)))[0]\n",
    "        accZ = unpack('f', bytearray(ser.read(4)))[0]\n",
    "\n",
    "        # read the first byte of the next package\n",
    "        startByte =  bytearray(ser.read())[0]\n",
    "                     \n",
    "        if(startByte==0x55):\n",
    "            print \"(%f,%f,%f)\" % (accX,accY,accZ)\n",
    "            \n",
    "            # All real-time processing can be done here, where sample by sample are received (accX,accY,accZ variables)\n",
    "            \n",
    "            \n",
    "        \n",
    "\n",
    "buttonStart.on_click(on_buttonStart_clicked)\n",
    "            \n",
    "def on_buttonStop_clicked(b):  \n",
    "    print 'Stop press'\n",
    "    ser.close()\n",
    "\n",
    "buttonStop.on_click(on_buttonStop_clicked)"
   ]
  },
  {
   "cell_type": "code",
   "execution_count": null,
   "metadata": {
    "collapsed": true
   },
   "outputs": [],
   "source": []
  }
 ],
 "metadata": {
  "anaconda-cloud": {},
  "kernelspec": {
   "display_name": "Python [Root]",
   "language": "python",
   "name": "Python [Root]"
  },
  "language_info": {
   "codemirror_mode": {
    "name": "ipython",
    "version": 2
   },
   "file_extension": ".py",
   "mimetype": "text/x-python",
   "name": "python",
   "nbconvert_exporter": "python",
   "pygments_lexer": "ipython2",
   "version": "2.7.12"
  }
 },
 "nbformat": 4,
 "nbformat_minor": 0
}
